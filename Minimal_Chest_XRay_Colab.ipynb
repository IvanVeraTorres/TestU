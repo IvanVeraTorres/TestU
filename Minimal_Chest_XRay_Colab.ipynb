{
  "cells": [
    {
      "cell_type": "code",
      "source": [],
      "metadata": {
        "id": "NulUjdMAp1-1"
      },
      "id": "NulUjdMAp1-1",
      "execution_count": null,
      "outputs": []
    },
    {
      "cell_type": "markdown",
      "id": "3bbb2d2c",
      "metadata": {
        "id": "3bbb2d2c"
      },
      "source": [
        "\n",
        "# 🩺 Proyecto Minimal: Neumonía en Radiografías de Tórax (Colab)\n",
        "**Objetivo:** Entrenar un clasificador binario (NORMAL vs PNEUMONIA) con **EfficientNetB0** usando Google Colab, reportar métricas clave y dejar el código listo para subir a GitHub.\n",
        "\n",
        "> Uso académico. No es un sistema de diagnóstico médico.\n"
      ]
    },
    {
      "cell_type": "markdown",
      "id": "425a6520",
      "metadata": {
        "id": "425a6520"
      },
      "source": [
        "\n",
        "## 1) Setup rápido\n",
        "Instala y verifica dependencias mínimas.\n"
      ]
    },
    {
      "cell_type": "code",
      "execution_count": 1,
      "id": "e4d51b1a",
      "metadata": {
        "id": "e4d51b1a",
        "outputId": "800bfad1-4d57-4aec-e8f7-8dd991b1b288",
        "colab": {
          "base_uri": "https://localhost:8080/"
        }
      },
      "outputs": [
        {
          "output_type": "stream",
          "name": "stdout",
          "text": [
            "TF: 2.19.0\n",
            "GPU: []\n"
          ]
        }
      ],
      "source": [
        "\n",
        "!pip -q install kaggle opencv-python-headless\n",
        "\n",
        "import os, numpy as np, tensorflow as tf, matplotlib.pyplot as plt, random\n",
        "SEED = 123; random.seed(SEED); np.random.seed(SEED); tf.random.set_seed(SEED)\n",
        "IMG_SIZE=(224,224); BATCH=32\n",
        "\n",
        "print(\"TF:\", tf.__version__)\n",
        "print(\"GPU:\", tf.config.list_physical_devices('GPU'))\n"
      ]
    },
    {
      "cell_type": "markdown",
      "id": "0bc6300a",
      "metadata": {
        "id": "0bc6300a"
      },
      "source": [
        "\n",
        "## 2) Dataset (Kaggle)\n",
        "Sube tu `kaggle.json` (Kaggle → Profile → Account → *Create New API Token*). Se descarga **Chest X-Ray Images (Pneumonia)**.\n"
      ]
    },
    {
      "cell_type": "code",
      "execution_count": 3,
      "id": "fa3cd0ba",
      "metadata": {
        "id": "fa3cd0ba",
        "outputId": "d8fd1d36-4279-431f-b221-3c1346bb63c1",
        "colab": {
          "base_uri": "https://localhost:8080/",
          "height": 142
        }
      },
      "outputs": [
        {
          "output_type": "stream",
          "name": "stdout",
          "text": [
            "Sube tu kaggle.json\n"
          ]
        },
        {
          "output_type": "display_data",
          "data": {
            "text/plain": [
              "<IPython.core.display.HTML object>"
            ],
            "text/html": [
              "\n",
              "     <input type=\"file\" id=\"files-38f0a418-3636-41e3-8e8f-9fdc8bfa71a6\" name=\"files[]\" multiple disabled\n",
              "        style=\"border:none\" />\n",
              "     <output id=\"result-38f0a418-3636-41e3-8e8f-9fdc8bfa71a6\">\n",
              "      Upload widget is only available when the cell has been executed in the\n",
              "      current browser session. Please rerun this cell to enable.\n",
              "      </output>\n",
              "      <script>// Copyright 2017 Google LLC\n",
              "//\n",
              "// Licensed under the Apache License, Version 2.0 (the \"License\");\n",
              "// you may not use this file except in compliance with the License.\n",
              "// You may obtain a copy of the License at\n",
              "//\n",
              "//      http://www.apache.org/licenses/LICENSE-2.0\n",
              "//\n",
              "// Unless required by applicable law or agreed to in writing, software\n",
              "// distributed under the License is distributed on an \"AS IS\" BASIS,\n",
              "// WITHOUT WARRANTIES OR CONDITIONS OF ANY KIND, either express or implied.\n",
              "// See the License for the specific language governing permissions and\n",
              "// limitations under the License.\n",
              "\n",
              "/**\n",
              " * @fileoverview Helpers for google.colab Python module.\n",
              " */\n",
              "(function(scope) {\n",
              "function span(text, styleAttributes = {}) {\n",
              "  const element = document.createElement('span');\n",
              "  element.textContent = text;\n",
              "  for (const key of Object.keys(styleAttributes)) {\n",
              "    element.style[key] = styleAttributes[key];\n",
              "  }\n",
              "  return element;\n",
              "}\n",
              "\n",
              "// Max number of bytes which will be uploaded at a time.\n",
              "const MAX_PAYLOAD_SIZE = 100 * 1024;\n",
              "\n",
              "function _uploadFiles(inputId, outputId) {\n",
              "  const steps = uploadFilesStep(inputId, outputId);\n",
              "  const outputElement = document.getElementById(outputId);\n",
              "  // Cache steps on the outputElement to make it available for the next call\n",
              "  // to uploadFilesContinue from Python.\n",
              "  outputElement.steps = steps;\n",
              "\n",
              "  return _uploadFilesContinue(outputId);\n",
              "}\n",
              "\n",
              "// This is roughly an async generator (not supported in the browser yet),\n",
              "// where there are multiple asynchronous steps and the Python side is going\n",
              "// to poll for completion of each step.\n",
              "// This uses a Promise to block the python side on completion of each step,\n",
              "// then passes the result of the previous step as the input to the next step.\n",
              "function _uploadFilesContinue(outputId) {\n",
              "  const outputElement = document.getElementById(outputId);\n",
              "  const steps = outputElement.steps;\n",
              "\n",
              "  const next = steps.next(outputElement.lastPromiseValue);\n",
              "  return Promise.resolve(next.value.promise).then((value) => {\n",
              "    // Cache the last promise value to make it available to the next\n",
              "    // step of the generator.\n",
              "    outputElement.lastPromiseValue = value;\n",
              "    return next.value.response;\n",
              "  });\n",
              "}\n",
              "\n",
              "/**\n",
              " * Generator function which is called between each async step of the upload\n",
              " * process.\n",
              " * @param {string} inputId Element ID of the input file picker element.\n",
              " * @param {string} outputId Element ID of the output display.\n",
              " * @return {!Iterable<!Object>} Iterable of next steps.\n",
              " */\n",
              "function* uploadFilesStep(inputId, outputId) {\n",
              "  const inputElement = document.getElementById(inputId);\n",
              "  inputElement.disabled = false;\n",
              "\n",
              "  const outputElement = document.getElementById(outputId);\n",
              "  outputElement.innerHTML = '';\n",
              "\n",
              "  const pickedPromise = new Promise((resolve) => {\n",
              "    inputElement.addEventListener('change', (e) => {\n",
              "      resolve(e.target.files);\n",
              "    });\n",
              "  });\n",
              "\n",
              "  const cancel = document.createElement('button');\n",
              "  inputElement.parentElement.appendChild(cancel);\n",
              "  cancel.textContent = 'Cancel upload';\n",
              "  const cancelPromise = new Promise((resolve) => {\n",
              "    cancel.onclick = () => {\n",
              "      resolve(null);\n",
              "    };\n",
              "  });\n",
              "\n",
              "  // Wait for the user to pick the files.\n",
              "  const files = yield {\n",
              "    promise: Promise.race([pickedPromise, cancelPromise]),\n",
              "    response: {\n",
              "      action: 'starting',\n",
              "    }\n",
              "  };\n",
              "\n",
              "  cancel.remove();\n",
              "\n",
              "  // Disable the input element since further picks are not allowed.\n",
              "  inputElement.disabled = true;\n",
              "\n",
              "  if (!files) {\n",
              "    return {\n",
              "      response: {\n",
              "        action: 'complete',\n",
              "      }\n",
              "    };\n",
              "  }\n",
              "\n",
              "  for (const file of files) {\n",
              "    const li = document.createElement('li');\n",
              "    li.append(span(file.name, {fontWeight: 'bold'}));\n",
              "    li.append(span(\n",
              "        `(${file.type || 'n/a'}) - ${file.size} bytes, ` +\n",
              "        `last modified: ${\n",
              "            file.lastModifiedDate ? file.lastModifiedDate.toLocaleDateString() :\n",
              "                                    'n/a'} - `));\n",
              "    const percent = span('0% done');\n",
              "    li.appendChild(percent);\n",
              "\n",
              "    outputElement.appendChild(li);\n",
              "\n",
              "    const fileDataPromise = new Promise((resolve) => {\n",
              "      const reader = new FileReader();\n",
              "      reader.onload = (e) => {\n",
              "        resolve(e.target.result);\n",
              "      };\n",
              "      reader.readAsArrayBuffer(file);\n",
              "    });\n",
              "    // Wait for the data to be ready.\n",
              "    let fileData = yield {\n",
              "      promise: fileDataPromise,\n",
              "      response: {\n",
              "        action: 'continue',\n",
              "      }\n",
              "    };\n",
              "\n",
              "    // Use a chunked sending to avoid message size limits. See b/62115660.\n",
              "    let position = 0;\n",
              "    do {\n",
              "      const length = Math.min(fileData.byteLength - position, MAX_PAYLOAD_SIZE);\n",
              "      const chunk = new Uint8Array(fileData, position, length);\n",
              "      position += length;\n",
              "\n",
              "      const base64 = btoa(String.fromCharCode.apply(null, chunk));\n",
              "      yield {\n",
              "        response: {\n",
              "          action: 'append',\n",
              "          file: file.name,\n",
              "          data: base64,\n",
              "        },\n",
              "      };\n",
              "\n",
              "      let percentDone = fileData.byteLength === 0 ?\n",
              "          100 :\n",
              "          Math.round((position / fileData.byteLength) * 100);\n",
              "      percent.textContent = `${percentDone}% done`;\n",
              "\n",
              "    } while (position < fileData.byteLength);\n",
              "  }\n",
              "\n",
              "  // All done.\n",
              "  yield {\n",
              "    response: {\n",
              "      action: 'complete',\n",
              "    }\n",
              "  };\n",
              "}\n",
              "\n",
              "scope.google = scope.google || {};\n",
              "scope.google.colab = scope.google.colab || {};\n",
              "scope.google.colab._files = {\n",
              "  _uploadFiles,\n",
              "  _uploadFilesContinue,\n",
              "};\n",
              "})(self);\n",
              "</script> "
            ]
          },
          "metadata": {}
        },
        {
          "output_type": "stream",
          "name": "stdout",
          "text": [
            "Saving kaggle.json to kaggle.json\n",
            "Dataset URL: https://www.kaggle.com/datasets/paultimothymooney/chest-xray-pneumonia\n",
            "License(s): other\n",
            "OK. Carpetas: ['chest_xray', 'val', 'train', '__MACOSX', 'test']\n"
          ]
        }
      ],
      "source": [
        "\n",
        "from google.colab import files, userdata\n",
        "import pathlib\n",
        "\n",
        "print(\"Sube tu kaggle.json\")\n",
        "uploaded = files.upload()\n",
        "pathlib.Path(\"/root/.kaggle\").mkdir(parents=True, exist_ok=True)\n",
        "with open(\"/root/.kaggle/kaggle.json\",\"wb\") as f: f.write(uploaded[\"kaggle.json\"])\n",
        "!chmod 600 /root/.kaggle/kaggle.json\n",
        "\n",
        "!kaggle datasets download -d paultimothymooney/chest-xray-pneumonia -p /content -q\n",
        "!unzip -q /content/chest-xray-pneumonia.zip -d /content\n",
        "DATA_DIR=\"/content/chest_xray\"\n",
        "print(\"OK. Carpetas:\", os.listdir(DATA_DIR))\n"
      ]
    },
    {
      "cell_type": "markdown",
      "id": "69c1c34b",
      "metadata": {
        "id": "69c1c34b"
      },
      "source": [
        "\n",
        "## 3) Carga de datos y aumentación\n",
        "Usamos `tf.data` y un pipeline simple con aumentación ligera.\n"
      ]
    },
    {
      "cell_type": "code",
      "execution_count": 4,
      "id": "4906e102",
      "metadata": {
        "id": "4906e102",
        "outputId": "5f36f77b-b29a-4d7e-951f-614c209c89fd",
        "colab": {
          "base_uri": "https://localhost:8080/"
        }
      },
      "outputs": [
        {
          "output_type": "stream",
          "name": "stdout",
          "text": [
            "Found 5216 files belonging to 2 classes.\n",
            "Found 16 files belonging to 2 classes.\n",
            "Found 624 files belonging to 2 classes.\n"
          ]
        }
      ],
      "source": [
        "\n",
        "from tensorflow.keras.preprocessing import image_dataset_from_directory as ds_from_dir\n",
        "\n",
        "train_ds = ds_from_dir(f\"{DATA_DIR}/train\", label_mode=\"binary\", image_size=IMG_SIZE, batch_size=BATCH, seed=SEED)\n",
        "val_ds   = ds_from_dir(f\"{DATA_DIR}/val\",   label_mode=\"binary\", image_size=IMG_SIZE, batch_size=BATCH, seed=SEED)\n",
        "test_ds  = ds_from_dir(f\"{DATA_DIR}/test\",  label_mode=\"binary\", image_size=IMG_SIZE, batch_size=BATCH, shuffle=False)\n",
        "\n",
        "AUTOTUNE=tf.data.AUTOTUNE\n",
        "train_ds=train_ds.shuffle(1024,seed=SEED).prefetch(AUTOTUNE)\n",
        "val_ds=val_ds.prefetch(AUTOTUNE); test_ds=test_ds.prefetch(AUTOTUNE)\n",
        "\n",
        "data_aug=tf.keras.Sequential([\n",
        "  tf.keras.layers.RandomFlip(\"horizontal\"),\n",
        "  tf.keras.layers.RandomRotation(0.05),\n",
        "  tf.keras.layers.RandomZoom(0.05),\n",
        "])\n",
        "CLASSES=[\"NORMAL\",\"PNEUMONIA\"]\n"
      ]
    },
    {
      "cell_type": "markdown",
      "id": "f32c9fde",
      "metadata": {
        "id": "f32c9fde"
      },
      "source": [
        "\n",
        "## 4) Modelo (EfficientNetB0) + Entrenamiento breve\n",
        "Primero congelamos la base; luego un pequeño *fine-tuning*.\n"
      ]
    },
    {
      "cell_type": "code",
      "execution_count": 5,
      "id": "3fcdfaa2",
      "metadata": {
        "id": "3fcdfaa2",
        "outputId": "6f1f40cb-d963-4941-858f-b09ffd86d372",
        "colab": {
          "base_uri": "https://localhost:8080/"
        }
      },
      "outputs": [
        {
          "output_type": "stream",
          "name": "stdout",
          "text": [
            "Downloading data from https://storage.googleapis.com/keras-applications/efficientnetb0_notop.h5\n",
            "\u001b[1m16705208/16705208\u001b[0m \u001b[32m━━━━━━━━━━━━━━━━━━━━\u001b[0m\u001b[37m\u001b[0m \u001b[1m1s\u001b[0m 0us/step\n",
            "Epoch 1/6\n",
            "\u001b[1m163/163\u001b[0m \u001b[32m━━━━━━━━━━━━━━━━━━━━\u001b[0m\u001b[37m\u001b[0m \u001b[1m470s\u001b[0m 3s/step - accuracy: 0.8185 - loss: 0.4028 - val_accuracy: 0.8750 - val_loss: 0.4531\n",
            "Epoch 2/6\n",
            "\u001b[1m163/163\u001b[0m \u001b[32m━━━━━━━━━━━━━━━━━━━━\u001b[0m\u001b[37m\u001b[0m \u001b[1m459s\u001b[0m 3s/step - accuracy: 0.9098 - loss: 0.2152 - val_accuracy: 0.8750 - val_loss: 0.4179\n",
            "Epoch 3/6\n",
            "\u001b[1m163/163\u001b[0m \u001b[32m━━━━━━━━━━━━━━━━━━━━\u001b[0m\u001b[37m\u001b[0m \u001b[1m459s\u001b[0m 3s/step - accuracy: 0.9241 - loss: 0.1930 - val_accuracy: 0.8750 - val_loss: 0.3047\n",
            "Epoch 4/6\n",
            "\u001b[1m163/163\u001b[0m \u001b[32m━━━━━━━━━━━━━━━━━━━━\u001b[0m\u001b[37m\u001b[0m \u001b[1m454s\u001b[0m 3s/step - accuracy: 0.9370 - loss: 0.1601 - val_accuracy: 0.9375 - val_loss: 0.1994\n",
            "Epoch 5/6\n",
            "\u001b[1m163/163\u001b[0m \u001b[32m━━━━━━━━━━━━━━━━━━━━\u001b[0m\u001b[37m\u001b[0m \u001b[1m494s\u001b[0m 3s/step - accuracy: 0.9385 - loss: 0.1566 - val_accuracy: 0.8750 - val_loss: 0.2113\n",
            "Epoch 6/6\n",
            "\u001b[1m163/163\u001b[0m \u001b[32m━━━━━━━━━━━━━━━━━━━━\u001b[0m\u001b[37m\u001b[0m \u001b[1m452s\u001b[0m 3s/step - accuracy: 0.9530 - loss: 0.1322 - val_accuracy: 0.8750 - val_loss: 0.2561\n",
            "Epoch 1/6\n",
            "\u001b[1m163/163\u001b[0m \u001b[32m━━━━━━━━━━━━━━━━━━━━\u001b[0m\u001b[37m\u001b[0m \u001b[1m537s\u001b[0m 3s/step - accuracy: 0.9231 - loss: 0.2050 - val_accuracy: 0.9375 - val_loss: 0.1978\n",
            "Epoch 2/6\n",
            "\u001b[1m163/163\u001b[0m \u001b[32m━━━━━━━━━━━━━━━━━━━━\u001b[0m\u001b[37m\u001b[0m \u001b[1m547s\u001b[0m 3s/step - accuracy: 0.9605 - loss: 0.1102 - val_accuracy: 0.9375 - val_loss: 0.1876\n",
            "Epoch 3/6\n",
            "\u001b[1m163/163\u001b[0m \u001b[32m━━━━━━━━━━━━━━━━━━━━\u001b[0m\u001b[37m\u001b[0m \u001b[1m506s\u001b[0m 3s/step - accuracy: 0.9663 - loss: 0.0922 - val_accuracy: 0.8750 - val_loss: 0.2729\n",
            "Epoch 4/6\n",
            "\u001b[1m163/163\u001b[0m \u001b[32m━━━━━━━━━━━━━━━━━━━━\u001b[0m\u001b[37m\u001b[0m \u001b[1m501s\u001b[0m 3s/step - accuracy: 0.9737 - loss: 0.0713 - val_accuracy: 0.9375 - val_loss: 0.1699\n",
            "Epoch 5/6\n",
            "\u001b[1m163/163\u001b[0m \u001b[32m━━━━━━━━━━━━━━━━━━━━\u001b[0m\u001b[37m\u001b[0m \u001b[1m501s\u001b[0m 3s/step - accuracy: 0.9771 - loss: 0.0566 - val_accuracy: 1.0000 - val_loss: 0.1006\n",
            "Epoch 6/6\n",
            "\u001b[1m163/163\u001b[0m \u001b[32m━━━━━━━━━━━━━━━━━━━━\u001b[0m\u001b[37m\u001b[0m \u001b[1m499s\u001b[0m 3s/step - accuracy: 0.9775 - loss: 0.0554 - val_accuracy: 0.8750 - val_loss: 0.1488\n"
          ]
        }
      ],
      "source": [
        "\n",
        "from tensorflow.keras import layers, models\n",
        "\n",
        "base=tf.keras.applications.EfficientNetB0(include_top=False, weights=\"imagenet\", input_shape=IMG_SIZE+(3,))\n",
        "base.trainable=False\n",
        "\n",
        "inp=layers.Input(IMG_SIZE+(3,))\n",
        "x=tf.keras.applications.efficientnet.preprocess_input(inp)\n",
        "x=data_aug(x); x=base(x, training=False)\n",
        "x=layers.GlobalAveragePooling2D()(x)\n",
        "x=layers.Dropout(0.25)(x)\n",
        "out=layers.Dense(1, activation=\"sigmoid\")(x)\n",
        "model=models.Model(inp,out)\n",
        "\n",
        "model.compile(optimizer=tf.keras.optimizers.Adam(1e-3), loss=\"binary_crossentropy\", metrics=[\"accuracy\"])\n",
        "\n",
        "es=tf.keras.callbacks.EarlyStopping(patience=3, restore_best_weights=True, monitor=\"val_loss\")\n",
        "ck=tf.keras.callbacks.ModelCheckpoint(\"best.keras\", save_best_only=True, monitor=\"val_loss\")\n",
        "\n",
        "history=model.fit(train_ds, validation_data=val_ds, epochs=6, callbacks=[es,ck], verbose=1)\n",
        "\n",
        "# Fine-tuning corto\n",
        "base.trainable=True\n",
        "for L in base.layers[:-20]: L.trainable=False\n",
        "model.compile(optimizer=tf.keras.optimizers.Adam(1e-4), loss=\"binary_crossentropy\", metrics=[\"accuracy\"])\n",
        "history_ft=model.fit(train_ds, validation_data=val_ds, epochs=6, callbacks=[es,ck], verbose=1)\n",
        "\n",
        "best=tf.keras.models.load_model(\"best.keras\")\n"
      ]
    },
    {
      "cell_type": "markdown",
      "id": "d45bd45a",
      "metadata": {
        "id": "d45bd45a"
      },
      "source": [
        "\n",
        "## 5) Métricas y gráficos (test)\n",
        "Accuracy, Precision, Recall, F1, ROC-AUC; matriz de confusión y curva ROC.\n"
      ]
    },
    {
      "cell_type": "code",
      "execution_count": 6,
      "id": "bad32401",
      "metadata": {
        "id": "bad32401",
        "outputId": "516fb030-2ad3-47fa-cf20-56b67108b47f",
        "colab": {
          "base_uri": "https://localhost:8080/",
          "height": 1000
        }
      },
      "outputs": [
        {
          "output_type": "stream",
          "name": "stdout",
          "text": [
            "Accuracy: 0.8510 | Precision: 0.8126 | Recall: 0.9897 | F1: 0.8925 | ROC-AUC: 0.9658\n",
            "\n",
            "Reporte:\n",
            "               precision    recall  f1-score   support\n",
            "\n",
            "      NORMAL       0.97      0.62      0.76       234\n",
            "   PNEUMONIA       0.81      0.99      0.89       390\n",
            "\n",
            "    accuracy                           0.85       624\n",
            "   macro avg       0.89      0.80      0.82       624\n",
            "weighted avg       0.87      0.85      0.84       624\n",
            "\n"
          ]
        },
        {
          "output_type": "display_data",
          "data": {
            "text/plain": [
              "<Figure size 640x480 with 1 Axes>"
            ],
            "image/png": "[encoded data removed]"
          },
          "metadata": {}
        },
        {
          "output_type": "display_data",
          "data": {
            "text/plain": [
              "<Figure size 640x480 with 1 Axes>"
            ],
            "image/png": "[encoded data removed]"
          },
          "metadata": {}
        }
      ],
      "source": [
        "\n",
        "from sklearn.metrics import classification_report, confusion_matrix, roc_auc_score, roc_curve, precision_recall_fscore_support\n",
        "import numpy as np, matplotlib.pyplot as plt\n",
        "\n",
        "y_true=np.concatenate([y.numpy().astype(int).ravel() for _,y in test_ds])\n",
        "y_prob=best.predict(test_ds, verbose=0).ravel()\n",
        "y_pred=(y_prob>=0.5).astype(int)\n",
        "\n",
        "acc=(y_pred==y_true).mean()\n",
        "prec, rec, f1, _=precision_recall_fscore_support(y_true,y_pred,average=\"binary\",zero_division=0)\n",
        "auc=roc_auc_score(y_true,y_prob)\n",
        "\n",
        "print(f\"Accuracy: {acc:.4f} | Precision: {prec:.4f} | Recall: {rec:.4f} | F1: {f1:.4f} | ROC-AUC: {auc:.4f}\")\n",
        "print(\"\\nReporte:\\n\", classification_report(y_true,y_pred,target_names=CLASSES))\n",
        "\n",
        "# Matriz de confusión\n",
        "cm=confusion_matrix(y_true,y_pred)\n",
        "plt.figure(); plt.imshow(cm); plt.title(\"Matriz de confusión\")\n",
        "plt.xticks([0,1],CLASSES); plt.yticks([0,1],CLASSES)\n",
        "for i in range(2):\n",
        "  for j in range(2):\n",
        "    plt.text(j,i,cm[i,j],ha=\"center\",va=\"center\")\n",
        "plt.xlabel(\"Predicción\"); plt.ylabel(\"Real\"); plt.grid(False); plt.show()\n",
        "\n",
        "# Curva ROC\n",
        "fpr,tpr,_=roc_curve(y_true,y_prob)\n",
        "plt.figure(); plt.plot(fpr,tpr,label=f\"AUC={auc:.3f}\")\n",
        "plt.plot([0,1],[0,1],'--'); plt.xlabel(\"FPR\"); plt.ylabel(\"TPR\"); plt.title(\"ROC\"); plt.legend(); plt.grid(True); plt.show()\n"
      ]
    },
    {
      "cell_type": "markdown",
      "id": "8b5c889e",
      "metadata": {
        "id": "8b5c889e"
      },
      "source": [
        "\n",
        "## 6) Grad-CAM (una imagen)\n",
        "Mapa de activación para interpretar la predicción.\n"
      ]
    },
    {
      "cell_type": "code",
      "execution_count": 7,
      "id": "3c18e680",
      "metadata": {
        "id": "3c18e680",
        "outputId": "a23cc917-406c-43ad-9fc0-1399186cbb22",
        "colab": {
          "base_uri": "https://localhost:8080/",
          "height": 498
        }
      },
      "outputs": [
        {
          "output_type": "stream",
          "name": "stderr",
          "text": [
            "/tmp/ipython-input-1120477770.py:27: DeprecationWarning: Conversion of an array with ndim > 0 to a scalar is deprecated, and will error in future. Ensure you extract a single element from your array before performing this operation. (Deprecated NumPy 1.25.)\n",
            "  img=imgs[0:1]; true=int(labels[0].numpy())\n",
            "/usr/local/lib/python3.11/dist-packages/keras/src/models/functional.py:241: UserWarning: The structure of `inputs` doesn't match the expected structure.\n",
            "Expected: [['input_layer_1']]\n",
            "Received: inputs=['Tensor(shape=(1, 224, 224, 3))']\n",
            "  warnings.warn(msg)\n"
          ]
        },
        {
          "output_type": "error",
          "ename": "KeyError",
          "evalue": "\"Exception encountered when calling Functional.call().\\n\\n\\x1b[1m132809236910736\\x1b[0m\\n\\nArguments received by Functional.call():\\n  • inputs=tf.Tensor(shape=(1, 224, 224, 3), dtype=float32)\\n  • training=None\\n  • mask=None\\n  • kwargs=<class 'inspect._empty'>\"",
          "traceback": [
            "\u001b[0;31m---------------------------------------------------------------------------\u001b[0m",
            "\u001b[0;31mKeyError\u001b[0m                                  Traceback (most recent call last)",
            "\u001b[0;32m/tmp/ipython-input-1120477770.py\u001b[0m in \u001b[0;36m<cell line: 0>\u001b[0;34m()\u001b[0m\n\u001b[1;32m     27\u001b[0m   \u001b[0mimg\u001b[0m\u001b[0;34m=\u001b[0m\u001b[0mimgs\u001b[0m\u001b[0;34m[\u001b[0m\u001b[0;36m0\u001b[0m\u001b[0;34m:\u001b[0m\u001b[0;36m1\u001b[0m\u001b[0;34m]\u001b[0m\u001b[0;34m;\u001b[0m \u001b[0mtrue\u001b[0m\u001b[0;34m=\u001b[0m\u001b[0mint\u001b[0m\u001b[0;34m(\u001b[0m\u001b[0mlabels\u001b[0m\u001b[0;34m[\u001b[0m\u001b[0;36m0\u001b[0m\u001b[0;34m]\u001b[0m\u001b[0;34m.\u001b[0m\u001b[0mnumpy\u001b[0m\u001b[0;34m(\u001b[0m\u001b[0;34m)\u001b[0m\u001b[0;34m)\u001b[0m\u001b[0;34m\u001b[0m\u001b[0;34m\u001b[0m\u001b[0m\n\u001b[1;32m     28\u001b[0m \u001b[0;34m\u001b[0m\u001b[0m\n\u001b[0;32m---> 29\u001b[0;31m \u001b[0mheat\u001b[0m\u001b[0;34m=\u001b[0m\u001b[0mgradcam\u001b[0m\u001b[0;34m(\u001b[0m\u001b[0mimg\u001b[0m\u001b[0;34m,\u001b[0m\u001b[0mbest\u001b[0m\u001b[0;34m,\u001b[0m\u001b[0mbase_layer\u001b[0m\u001b[0;34m,\u001b[0m\u001b[0mlast_conv\u001b[0m\u001b[0;34m)\u001b[0m\u001b[0;34m\u001b[0m\u001b[0;34m\u001b[0m\u001b[0m\n\u001b[0m\u001b[1;32m     30\u001b[0m \u001b[0mimg_uint8\u001b[0m\u001b[0;34m=\u001b[0m\u001b[0mtf\u001b[0m\u001b[0;34m.\u001b[0m\u001b[0mimage\u001b[0m\u001b[0;34m.\u001b[0m\u001b[0mresize\u001b[0m\u001b[0;34m(\u001b[0m\u001b[0mimg\u001b[0m\u001b[0;34m,\u001b[0m \u001b[0;34m(\u001b[0m\u001b[0;36m224\u001b[0m\u001b[0;34m,\u001b[0m\u001b[0;36m224\u001b[0m\u001b[0;34m)\u001b[0m\u001b[0;34m)\u001b[0m\u001b[0;34m.\u001b[0m\u001b[0mnumpy\u001b[0m\u001b[0;34m(\u001b[0m\u001b[0;34m)\u001b[0m\u001b[0;34m[\u001b[0m\u001b[0;36m0\u001b[0m\u001b[0;34m]\u001b[0m\u001b[0;34m.\u001b[0m\u001b[0mastype\u001b[0m\u001b[0;34m(\u001b[0m\u001b[0;34m\"uint8\"\u001b[0m\u001b[0;34m)\u001b[0m\u001b[0;34m\u001b[0m\u001b[0;34m\u001b[0m\u001b[0m\n\u001b[1;32m     31\u001b[0m \u001b[0mheat_res\u001b[0m\u001b[0;34m=\u001b[0m\u001b[0mcv2\u001b[0m\u001b[0;34m.\u001b[0m\u001b[0mresize\u001b[0m\u001b[0;34m(\u001b[0m\u001b[0;34m(\u001b[0m\u001b[0mheat\u001b[0m\u001b[0;34m*\u001b[0m\u001b[0;36m255\u001b[0m\u001b[0;34m)\u001b[0m\u001b[0;34m.\u001b[0m\u001b[0mastype\u001b[0m\u001b[0;34m(\u001b[0m\u001b[0;34m\"uint8\"\u001b[0m\u001b[0;34m)\u001b[0m\u001b[0;34m,\u001b[0m \u001b[0;34m(\u001b[0m\u001b[0;36m224\u001b[0m\u001b[0;34m,\u001b[0m\u001b[0;36m224\u001b[0m\u001b[0;34m)\u001b[0m\u001b[0;34m)\u001b[0m\u001b[0;34m\u001b[0m\u001b[0;34m\u001b[0m\u001b[0m\n",
            "\u001b[0;32m/tmp/ipython-input-1120477770.py\u001b[0m in \u001b[0;36mgradcam\u001b[0;34m(img_array, model, base_name, last_conv_name)\u001b[0m\n\u001b[1;32m     15\u001b[0m   \u001b[0mgmodel\u001b[0m\u001b[0;34m=\u001b[0m\u001b[0mtf\u001b[0m\u001b[0;34m.\u001b[0m\u001b[0mkeras\u001b[0m\u001b[0;34m.\u001b[0m\u001b[0mModel\u001b[0m\u001b[0;34m(\u001b[0m\u001b[0;34m[\u001b[0m\u001b[0mmodel\u001b[0m\u001b[0;34m.\u001b[0m\u001b[0minputs\u001b[0m\u001b[0;34m]\u001b[0m\u001b[0;34m,\u001b[0m\u001b[0;34m[\u001b[0m\u001b[0mlast_conv_layer\u001b[0m\u001b[0;34m.\u001b[0m\u001b[0moutput\u001b[0m\u001b[0;34m,\u001b[0m \u001b[0mmodel\u001b[0m\u001b[0;34m.\u001b[0m\u001b[0moutput\u001b[0m\u001b[0;34m]\u001b[0m\u001b[0;34m)\u001b[0m\u001b[0;34m\u001b[0m\u001b[0;34m\u001b[0m\u001b[0m\n\u001b[1;32m     16\u001b[0m   \u001b[0;32mwith\u001b[0m \u001b[0mtf\u001b[0m\u001b[0;34m.\u001b[0m\u001b[0mGradientTape\u001b[0m\u001b[0;34m(\u001b[0m\u001b[0;34m)\u001b[0m \u001b[0;32mas\u001b[0m \u001b[0mtape\u001b[0m\u001b[0;34m:\u001b[0m\u001b[0;34m\u001b[0m\u001b[0;34m\u001b[0m\u001b[0m\n\u001b[0;32m---> 17\u001b[0;31m     \u001b[0mconv_out\u001b[0m\u001b[0;34m,\u001b[0m \u001b[0mpreds\u001b[0m \u001b[0;34m=\u001b[0m \u001b[0mgmodel\u001b[0m\u001b[0;34m(\u001b[0m\u001b[0mimg_array\u001b[0m\u001b[0;34m)\u001b[0m\u001b[0;34m\u001b[0m\u001b[0;34m\u001b[0m\u001b[0m\n\u001b[0m\u001b[1;32m     18\u001b[0m     \u001b[0mloss\u001b[0m \u001b[0;34m=\u001b[0m \u001b[0mpreds\u001b[0m\u001b[0;34m[\u001b[0m\u001b[0;34m:\u001b[0m\u001b[0;34m,\u001b[0m\u001b[0;36m0\u001b[0m\u001b[0;34m]\u001b[0m\u001b[0;34m\u001b[0m\u001b[0;34m\u001b[0m\u001b[0m\n\u001b[1;32m     19\u001b[0m   \u001b[0mgrads\u001b[0m \u001b[0;34m=\u001b[0m \u001b[0mtape\u001b[0m\u001b[0;34m.\u001b[0m\u001b[0mgradient\u001b[0m\u001b[0;34m(\u001b[0m\u001b[0mloss\u001b[0m\u001b[0;34m,\u001b[0m \u001b[0mconv_out\u001b[0m\u001b[0;34m)\u001b[0m\u001b[0;34m\u001b[0m\u001b[0;34m\u001b[0m\u001b[0m\n",
            "\u001b[0;32m/usr/local/lib/python3.11/dist-packages/keras/src/utils/traceback_utils.py\u001b[0m in \u001b[0;36merror_handler\u001b[0;34m(*args, **kwargs)\u001b[0m\n\u001b[1;32m    120\u001b[0m             \u001b[0;31m# To get the full stack trace, call:\u001b[0m\u001b[0;34m\u001b[0m\u001b[0;34m\u001b[0m\u001b[0m\n\u001b[1;32m    121\u001b[0m             \u001b[0;31m# `keras.config.disable_traceback_filtering()`\u001b[0m\u001b[0;34m\u001b[0m\u001b[0;34m\u001b[0m\u001b[0m\n\u001b[0;32m--> 122\u001b[0;31m             \u001b[0;32mraise\u001b[0m \u001b[0me\u001b[0m\u001b[0;34m.\u001b[0m\u001b[0mwith_traceback\u001b[0m\u001b[0;34m(\u001b[0m\u001b[0mfiltered_tb\u001b[0m\u001b[0;34m)\u001b[0m \u001b[0;32mfrom\u001b[0m \u001b[0;32mNone\u001b[0m\u001b[0;34m\u001b[0m\u001b[0;34m\u001b[0m\u001b[0m\n\u001b[0m\u001b[1;32m    123\u001b[0m         \u001b[0;32mfinally\u001b[0m\u001b[0;34m:\u001b[0m\u001b[0;34m\u001b[0m\u001b[0;34m\u001b[0m\u001b[0m\n\u001b[1;32m    124\u001b[0m             \u001b[0;32mdel\u001b[0m \u001b[0mfiltered_tb\u001b[0m\u001b[0;34m\u001b[0m\u001b[0;34m\u001b[0m\u001b[0m\n",
            "\u001b[0;32m/usr/local/lib/python3.11/dist-packages/keras/src/ops/function.py\u001b[0m in \u001b[0;36m_run_through_graph\u001b[0;34m(self, inputs, operation_fn, call_fn)\u001b[0m\n\u001b[1;32m    183\u001b[0m         \u001b[0moutput_tensors\u001b[0m \u001b[0;34m=\u001b[0m \u001b[0;34m[\u001b[0m\u001b[0;34m]\u001b[0m\u001b[0;34m\u001b[0m\u001b[0;34m\u001b[0m\u001b[0m\n\u001b[1;32m    184\u001b[0m         \u001b[0;32mfor\u001b[0m \u001b[0mx\u001b[0m \u001b[0;32min\u001b[0m \u001b[0mself\u001b[0m\u001b[0;34m.\u001b[0m\u001b[0moutputs\u001b[0m\u001b[0;34m:\u001b[0m\u001b[0;34m\u001b[0m\u001b[0;34m\u001b[0m\u001b[0m\n\u001b[0;32m--> 185\u001b[0;31m             \u001b[0moutput_tensors\u001b[0m\u001b[0;34m.\u001b[0m\u001b[0mappend\u001b[0m\u001b[0;34m(\u001b[0m\u001b[0mtensor_dict\u001b[0m\u001b[0;34m[\u001b[0m\u001b[0mid\u001b[0m\u001b[0;34m(\u001b[0m\u001b[0mx\u001b[0m\u001b[0;34m)\u001b[0m\u001b[0;34m]\u001b[0m\u001b[0;34m)\u001b[0m\u001b[0;34m\u001b[0m\u001b[0;34m\u001b[0m\u001b[0m\n\u001b[0m\u001b[1;32m    186\u001b[0m \u001b[0;34m\u001b[0m\u001b[0m\n\u001b[1;32m    187\u001b[0m         \u001b[0;32mreturn\u001b[0m \u001b[0mtree\u001b[0m\u001b[0;34m.\u001b[0m\u001b[0mpack_sequence_as\u001b[0m\u001b[0;34m(\u001b[0m\u001b[0mself\u001b[0m\u001b[0;34m.\u001b[0m\u001b[0m_outputs_struct\u001b[0m\u001b[0;34m,\u001b[0m \u001b[0moutput_tensors\u001b[0m\u001b[0;34m)\u001b[0m\u001b[0;34m\u001b[0m\u001b[0;34m\u001b[0m\u001b[0m\n",
            "\u001b[0;31mKeyError\u001b[0m: \"Exception encountered when calling Functional.call().\\n\\n\\x1b[1m132809236910736\\x1b[0m\\n\\nArguments received by Functional.call():\\n  • inputs=tf.Tensor(shape=(1, 224, 224, 3), dtype=float32)\\n  • training=None\\n  • mask=None\\n  • kwargs=<class 'inspect._empty'>\""
          ]
        }
      ],
      "source": [
        "\n",
        "import tensorflow as tf, numpy as np, cv2, matplotlib.pyplot as plt\n",
        "\n",
        "# Ubicar capa conv final dentro de la base\n",
        "def find_last_conv(model_base):\n",
        "  for L in reversed(model_base.layers):\n",
        "    if isinstance(L, tf.keras.layers.Conv2D): return L.name\n",
        "  return None\n",
        "\n",
        "base_layer = best.layers[2].name  # submodelo EfficientNet\n",
        "last_conv = find_last_conv(best.get_layer(base_layer))\n",
        "\n",
        "def gradcam(img_array, model, base_name, last_conv_name):\n",
        "  base = model.get_layer(base_name)\n",
        "  last_conv_layer = base.get_layer(last_conv_name)\n",
        "  gmodel=tf.keras.Model([model.inputs],[last_conv_layer.output, model.output])\n",
        "  with tf.GradientTape() as tape:\n",
        "    conv_out, preds = gmodel(img_array)\n",
        "    loss = preds[:,0]\n",
        "  grads = tape.gradient(loss, conv_out)\n",
        "  pooled = tf.reduce_mean(grads, axis=(0,1,2))\n",
        "  conv_out=conv_out[0]\n",
        "  heat=tf.reduce_sum(tf.multiply(pooled,conv_out),axis=-1)\n",
        "  heat=np.maximum(heat,0)/ (np.max(heat)+1e-8)\n",
        "  return heat.numpy()\n",
        "\n",
        "for imgs, labels in test_ds.take(1):\n",
        "  img=imgs[0:1]; true=int(labels[0].numpy())\n",
        "\n",
        "heat=gradcam(img,best,base_layer,last_conv)\n",
        "img_uint8=tf.image.resize(img, (224,224)).numpy()[0].astype(\"uint8\")\n",
        "heat_res=cv2.resize((heat*255).astype(\"uint8\"), (224,224))\n",
        "heat_color=cv2.applyColorMap(heat_res, cv2.COLORMAP_JET)\n",
        "superimposed=cv2.addWeighted(img_uint8,0.6,heat_color,0.4,0)\n",
        "\n",
        "plt.figure(figsize=(10,4))\n",
        "plt.subplot(1,3,1); plt.imshow(img_uint8); plt.title(\"Imagen\"); plt.axis(\"off\")\n",
        "plt.subplot(1,3,2); plt.imshow(heat_res, cmap=\"jet\"); plt.title(\"Grad-CAM\"); plt.axis(\"off\")\n",
        "plt.subplot(1,3,3); plt.imshow(superimposed); plt.title(\"Superpuesta\"); plt.axis(\"off\")\n",
        "plt.tight_layout(); plt.show()\n"
      ]
    },
    {
      "cell_type": "markdown",
      "id": "244374c8",
      "metadata": {
        "id": "244374c8"
      },
      "source": [
        "\n",
        "## 7) Guardar artefactos\n",
        "Modelo y métricas principales en archivos.\n"
      ]
    },
    {
      "cell_type": "code",
      "execution_count": null,
      "id": "8666ead6",
      "metadata": {
        "id": "8666ead6"
      },
      "outputs": [],
      "source": [
        "\n",
        "import pandas as pd, numpy as np, os\n",
        "\n",
        "best.save(\"/content/model_minimal.keras\")\n",
        "metrics=pd.DataFrame([{\"accuracy\":float(acc),\"precision\":float(prec),\"recall\":float(rec),\"f1\":float(f1),\"roc_auc\":float(auc)}])\n",
        "metrics.to_csv(\"/content/metrics_minimal.csv\", index=False)\n",
        "\n",
        "print(\"Guardados:\")\n",
        "!ls -lh /content | grep -E \"minimal\\.keras|metrics_minimal\\.csv\"\n"
      ]
    },
    {
      "cell_type": "markdown",
      "id": "cabb4df4",
      "metadata": {
        "id": "cabb4df4"
      },
      "source": [
        "\n",
        "## 8) (Opcional) Subir a GitHub\n",
        "- Crea un **PAT** (Personal Access Token) con `contents: write`.\n",
        "- Cambia `USUARIO`, `REPO` y (si aplica) `RAMA`.\n"
      ]
    },
    {
      "cell_type": "code",
      "execution_count": null,
      "id": "3849f1b2",
      "metadata": {
        "id": "3849f1b2"
      },
      "outputs": [],
      "source": [
        "\n",
        "# Descomenta para usar (opcional)\n",
        "# !git config --global user.name \"Tu Nombre\"\n",
        "# !git config --global user.email \"[email protected]\"\n",
        "# REPO_URL=\"https://github.com/USUARIO/REPO.git\"  # <- cambia\n",
        "# !git clone $REPO_URL\n",
        "# %cd REPO\n",
        "# # Copiar el notebook manualmente (desde Archivo → Descargar .ipynb) o ajustar ruta si ya conoces el nombre\n",
        "# # !cp \"/content/NombreDeTuNotebook.ipynb\" .\n",
        "# !cp /content/metrics_minimal.csv .\n",
        "# !cp /content/model_minimal.keras .  # opcional por tamaño\n",
        "# with open(\".gitignore\",\"a\") as f: f.write(\"\\nchest_xray/\\n*.zip\\n*.keras\\n\")\n",
        "# import getpass, os\n",
        "# os.environ[\"GH_TOKEN\"]=getpass.getpass(\"Pega tu GitHub PAT (contents:write): \")\n",
        "# !git remote set-url origin https://${GH_TOKEN}@github.com/USUARIO/REPO.git\n",
        "# !git add . && git commit -m \"Proyecto minimal: RX tórax con EfficientNetB0\" && git push origin HEAD:main\n"
      ]
    }
  ],
  "metadata": {
    "colab": {
      "provenance": []
    },
    "language_info": {
      "name": "python"
    },
    "kernelspec": {
      "name": "python3",
      "display_name": "Python 3"
    }
  },
  "nbformat": 4,
  "nbformat_minor": 5
}